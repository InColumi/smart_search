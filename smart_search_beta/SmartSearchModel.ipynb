{
 "cells": [
  {
   "cell_type": "code",
   "execution_count": 1,
   "id": "fc3b5b50",
   "metadata": {},
   "outputs": [],
   "source": [
    "from sentence_transformers import SentenceTransformer, util\n",
    "import pandas as pd"
   ]
  },
  {
   "cell_type": "code",
   "execution_count": 2,
   "id": "aa13f160",
   "metadata": {},
   "outputs": [],
   "source": [
    "df = pd.DataFrame(columns=['value', 'cluster_id', 'new_cluster_id'])"
   ]
  },
  {
   "cell_type": "code",
   "execution_count": 3,
   "id": "d9665bdd",
   "metadata": {},
   "outputs": [],
   "source": [
    "# Загрузка модели SentenceTransformer\n",
    "# model = SentenceTransformer('distilbert-base-nli-mean-tokens')\n",
    "model = SentenceTransformer('all-MiniLM-L6-v2')"
   ]
  },
  {
   "cell_type": "code",
   "execution_count": 4,
   "id": "337e4fd1",
   "metadata": {},
   "outputs": [],
   "source": [
    "apples = [\n",
    "    \"Apples are a popular fruit.\",\n",
    "    \"The color of apples can range from red to green.\",\n",
    "    \"Apple trees belong to the Rosaceae family.\",\n",
    "    \"Apple pie is a delicious dessert made with apples.\",\n",
    "    \"You can make apple cider from fresh apples.\",\n",
    "    \"Apple orchards are a common sight in the countryside.\",\n",
    "    \"Apples can be eaten raw or used in various recipes.\",\n",
    "    \"Apple seeds are found inside the core of the fruit.\",\n",
    "    \"Apple picking is a fun activity during the harvest season.\",\n",
    "    \"Apple sauce is a common accompaniment to pork dishes.\"\n",
    "]"
   ]
  },
  {
   "cell_type": "code",
   "execution_count": 5,
   "id": "934bc266",
   "metadata": {},
   "outputs": [],
   "source": [
    "horses = [\n",
    "    \"Horses are large, majestic animals.\",\n",
    "    \"The average lifespan of a horse is around 25 to 30 years.\",\n",
    "    \"Horses have a strong sense of hearing and eyesight.\",\n",
    "    \"There are over 300 different breeds of horses.\",\n",
    "    \"Horses are herbivores and mainly eat grass and hay.\",\n",
    "    \"The fastest recorded speed of a horse was around 55 miles per hour.\",\n",
    "    \"Horses are known for their strength and agility.\",\n",
    "    \"Horses have been domesticated for thousands of years and have served humans in various roles.\",\n",
    "    \"Horses communicate through a combination of vocalizations and body language.\",\n",
    "    \"Horseback riding is a popular recreational activity and sport.\"\n",
    "]"
   ]
  },
  {
   "cell_type": "code",
   "execution_count": 6,
   "id": "ee1e6664",
   "metadata": {},
   "outputs": [],
   "source": [
    "books = [\n",
    "    \"Books are a great source of knowledge and entertainment.\",\n",
    "    \"Reading books can broaden your perspective and enhance your imagination.\",\n",
    "    \"There are countless genres of books, including fiction, non-fiction, fantasy, and mystery.\",\n",
    "    \"Books can transport you to different worlds and time periods.\",\n",
    "    \"Many people enjoy collecting and building personal libraries of books.\",\n",
    "    \"Books are often adapted into movies or TV shows.\",\n",
    "    \"Libraries are important institutions that house vast collections of books for public access.\",\n",
    "    \"Books can be enjoyed in various formats, including hardcover, paperback, and e-books.\",\n",
    "    \"Some famous authors have written timeless classics that are still widely read today.\",\n",
    "    \"Books have the power to inspire, educate, and evoke a range of emotions.\"\n",
    "]\n"
   ]
  },
  {
   "cell_type": "code",
   "execution_count": 7,
   "id": "40b18c49",
   "metadata": {},
   "outputs": [],
   "source": [
    "univer = [\n",
    "    \"Universities offer a wide range of academic programs and degrees.\",\n",
    "    \"Higher education institutions provide opportunities for students to pursue their passions and interests.\",\n",
    "    \"Universities often have diverse student populations from different backgrounds and cultures.\",\n",
    "    \"Research is an integral part of many universities, fostering innovation and knowledge creation.\",\n",
    "    \"Universities provide a platform for intellectual growth and critical thinking.\",\n",
    "    \"Students at universities have access to various resources such as libraries, laboratories, and sports facilities.\",\n",
    "    \"Universities offer extracurricular activities and clubs for students to engage in hobbies and develop new skills.\",\n",
    "    \"Graduating from a reputable university can enhance career prospects and open doors to employment opportunities.\",\n",
    "    \"Universities promote academic freedom and encourage students to express their opinions and engage in discussions.\",\n",
    "    \"Universities play a vital role in the advancement of society through education, research, and community outreach.\"\n",
    "]\n"
   ]
  },
  {
   "cell_type": "code",
   "execution_count": 8,
   "id": "7b5f80cd",
   "metadata": {},
   "outputs": [],
   "source": [
    "man = [\n",
    "    \"The man walked down the street, whistling a tune.\",\n",
    "    \"Human beings have the capacity for both kindness and cruelty.\",\n",
    "    \"It is important to treat every human with respect and dignity.\",\n",
    "    \"The discovery of fire was a major milestone in the history of mankind.\",\n",
    "    \"The man gazed at the stars, contemplating the vastness of the universe.\",\n",
    "    \"Human civilization has made significant advancements in science and technology.\",\n",
    "    \"Every person has the right to live a life free from discrimination.\",\n",
    "    \"The scientist conducted experiments to better understand the human brain.\",\n",
    "    \"The man's compassionate actions touched the hearts of those around him.\",\n",
    "    \"The study of anthropology explores the diversity of human cultures.\",\n",
    "]"
   ]
  },
  {
   "cell_type": "code",
   "execution_count": 9,
   "id": "afde1da6",
   "metadata": {},
   "outputs": [],
   "source": [
    "logic = [\n",
    "    \"Logic is the foundation of rational thinking and decision-making.\",\n",
    "    \"The detective used deductive logic to solve the mysterious crime.\",\n",
    "    \"Mathematical logic provides a formal framework for reasoning.\",\n",
    "    \"The professor's lecture on symbolic logic was both challenging and enlightening.\",\n",
    "    \"In computer programming, logical operators are used to evaluate conditions.\",\n",
    "    \"Critical thinking involves applying logic to analyze and evaluate arguments.\",\n",
    "    \"The philosopher explored the limits of human logic and reason.\",\n",
    "    \"The logic behind the theorem was elegant and well-reasoned.\",\n",
    "    \"Inductive logic allows us to make generalizations based on specific observations.\",\n",
    "    \"The debate centered around the logic and validity of the proposed argument.\"]\n"
   ]
  },
  {
   "cell_type": "code",
   "execution_count": 10,
   "id": "11078c91",
   "metadata": {},
   "outputs": [],
   "source": [
    "water = [\n",
    "    \"Water is essential for the survival of all living organisms.\",\n",
    "    \"I always carry a water bottle with me to stay hydrated.\",\n",
    "    \"The sound of water flowing is incredibly soothing.\",\n",
    "    \"She dipped her toes in the cool water of the lake.\",\n",
    "    \"The rain poured down, drenching everything in water.\",\n",
    "    \"The ocean is vast and filled with mysterious creatures.\",\n",
    "    \"Plants need water to grow and thrive.\",\n",
    "    \"The waterfall cascaded down the rocky cliff with great force.\",\n",
    "    \"He jumped into the pool and felt the refreshing water against his skin.\",\n",
    "    \"The boat sailed across the calm waters of the lake.\"\n",
    "]\n"
   ]
  },
  {
   "cell_type": "code",
   "execution_count": 11,
   "id": "c6c527ca",
   "metadata": {},
   "outputs": [],
   "source": [
    "cat = [\n",
    "    \"The cat purred contentedly as it curled up on the cozy couch.\",\n",
    "    \"I adopted a playful kitten and named her Luna.\",\n",
    "    \"Cats are known for their agility and grace.\",\n",
    "    \"The tabby cat stealthily approached its prey.\",\n",
    "    \"She brushed the cat's fur, making it shiny and soft.\",\n",
    "    \"The curious cat climbed up the tall tree to explore.\",\n",
    "    \"He was startled by a sudden meow from the neighboring garden.\",\n",
    "    \"The cat stretched lazily in the warm sunlight.\",\n",
    "    \"Cats have a natural instinct for hunting and catching mice.\",\n",
    "    \"She couldn't resist the adorable face of the fluffy Persian cat.\"\n",
    "]\n"
   ]
  },
  {
   "cell_type": "code",
   "execution_count": 12,
   "id": "01f810d1",
   "metadata": {},
   "outputs": [],
   "source": [
    "sport = [\n",
    "    \"Football is a popular sport played around the world.\",\n",
    "    \"She enjoys watching basketball and is a fan of the sport.\",\n",
    "    \"He participates in various sports, such as swimming and cycling.\",\n",
    "    \"The Olympic Games showcase a wide range of sports and athletes.\",\n",
    "    \"She has a collection of sports memorabilia, including jerseys and signed baseballs.\",\n",
    "    \"Playing sports helps improve physical fitness and coordination.\",\n",
    "    \"The sport of tennis requires skill, agility, and endurance.\",\n",
    "    \"He aspires to become a professional athlete and compete at the highest level of his sport.\",\n",
    "    \"Sportsmanship is an important aspect of any sport, promoting fair play and respect.\",\n",
    "    \"The sport of boxing demands strength, strategy, and mental toughness.\"\n",
    "]\n"
   ]
  },
  {
   "cell_type": "code",
   "execution_count": 13,
   "id": "6128fe60",
   "metadata": {},
   "outputs": [],
   "source": [
    "javascript = [\n",
    "    \"JavaScript is a widely-used programming language for building web applications.\",\n",
    "    \"He enjoys coding in JavaScript and building interactive websites.\",\n",
    "    \"The JavaScript framework allowed for faster development of the user interface.\",\n",
    "    \"She attended a workshop to learn more about advanced JavaScript techniques.\",\n",
    "    \"The website's functionality was enhanced with the use of JavaScript.\",\n",
    "    \"He spent hours debugging his JavaScript code to fix the issue.\",\n",
    "    \"JavaScript is known for its versatility and ability to run on different platforms.\",\n",
    "    \"She contributed to an open-source JavaScript project to improve its features.\",\n",
    "    \"The company was seeking candidates with strong JavaScript skills for their development team.\",\n",
    "    \"The JavaScript library simplified the process of data visualization on the website.\"\n",
    "]\n"
   ]
  },
  {
   "cell_type": "code",
   "execution_count": 14,
   "id": "6383ada7",
   "metadata": {},
   "outputs": [],
   "source": [
    "python = [\n",
    "    \"Python is a versatile programming language used in web development, data analysis, and artificial intelligence.\",\n",
    "    \"She enjoys coding in Python because of its simplicity and readability.\",\n",
    "    \"The Python community is known for its active support and numerous libraries.\",\n",
    "    \"He learned Python as his first programming language and quickly fell in love with it.\",\n",
    "    \"Python's syntax is easy to understand, making it an excellent choice for beginners.\",\n",
    "    \"She used Python to automate repetitive tasks and save time.\",\n",
    "    \"The Python interpreter executes code line by line, making it easier to debug errors.\",\n",
    "    \"Python's extensive standard library provides a wide range of functionality out of the box.\",\n",
    "    \"He attended a Python conference to learn about the latest advancements in the language.\",\n",
    "    \"The Python ecosystem offers powerful frameworks such as Django and Flask for web development.\"\n",
    "]\n"
   ]
  },
  {
   "cell_type": "code",
   "execution_count": 15,
   "id": "7b5495db",
   "metadata": {},
   "outputs": [],
   "source": [
    "list_of_lists = [apples, horses, books,  univer, man, logic, water, cat, sport, javascript, python]"
   ]
  },
  {
   "cell_type": "code",
   "execution_count": null,
   "id": "6a8fc10d",
   "metadata": {},
   "outputs": [],
   "source": []
  },
  {
   "cell_type": "code",
   "execution_count": 16,
   "id": "cf007f00",
   "metadata": {
    "scrolled": true
   },
   "outputs": [
    {
     "data": {
      "text/html": [
       "<div>\n",
       "<style scoped>\n",
       "    .dataframe tbody tr th:only-of-type {\n",
       "        vertical-align: middle;\n",
       "    }\n",
       "\n",
       "    .dataframe tbody tr th {\n",
       "        vertical-align: top;\n",
       "    }\n",
       "\n",
       "    .dataframe thead th {\n",
       "        text-align: right;\n",
       "    }\n",
       "</style>\n",
       "<table border=\"1\" class=\"dataframe\">\n",
       "  <thead>\n",
       "    <tr style=\"text-align: right;\">\n",
       "      <th></th>\n",
       "      <th>value</th>\n",
       "      <th>cluster_id</th>\n",
       "      <th>new_cluster_id</th>\n",
       "    </tr>\n",
       "  </thead>\n",
       "  <tbody>\n",
       "    <tr>\n",
       "      <th>0</th>\n",
       "      <td>Apples are a popular fruit.</td>\n",
       "      <td>0</td>\n",
       "      <td>NaN</td>\n",
       "    </tr>\n",
       "    <tr>\n",
       "      <th>1</th>\n",
       "      <td>The color of apples can range from red to green.</td>\n",
       "      <td>0</td>\n",
       "      <td>NaN</td>\n",
       "    </tr>\n",
       "    <tr>\n",
       "      <th>2</th>\n",
       "      <td>Apple trees belong to the Rosaceae family.</td>\n",
       "      <td>0</td>\n",
       "      <td>NaN</td>\n",
       "    </tr>\n",
       "    <tr>\n",
       "      <th>3</th>\n",
       "      <td>Apple pie is a delicious dessert made with app...</td>\n",
       "      <td>0</td>\n",
       "      <td>NaN</td>\n",
       "    </tr>\n",
       "    <tr>\n",
       "      <th>4</th>\n",
       "      <td>You can make apple cider from fresh apples.</td>\n",
       "      <td>0</td>\n",
       "      <td>NaN</td>\n",
       "    </tr>\n",
       "    <tr>\n",
       "      <th>...</th>\n",
       "      <td>...</td>\n",
       "      <td>...</td>\n",
       "      <td>...</td>\n",
       "    </tr>\n",
       "    <tr>\n",
       "      <th>105</th>\n",
       "      <td>She used Python to automate repetitive tasks a...</td>\n",
       "      <td>10</td>\n",
       "      <td>NaN</td>\n",
       "    </tr>\n",
       "    <tr>\n",
       "      <th>106</th>\n",
       "      <td>The Python interpreter executes code line by l...</td>\n",
       "      <td>10</td>\n",
       "      <td>NaN</td>\n",
       "    </tr>\n",
       "    <tr>\n",
       "      <th>107</th>\n",
       "      <td>Python's extensive standard library provides a...</td>\n",
       "      <td>10</td>\n",
       "      <td>NaN</td>\n",
       "    </tr>\n",
       "    <tr>\n",
       "      <th>108</th>\n",
       "      <td>He attended a Python conference to learn about...</td>\n",
       "      <td>10</td>\n",
       "      <td>NaN</td>\n",
       "    </tr>\n",
       "    <tr>\n",
       "      <th>109</th>\n",
       "      <td>The Python ecosystem offers powerful framework...</td>\n",
       "      <td>10</td>\n",
       "      <td>NaN</td>\n",
       "    </tr>\n",
       "  </tbody>\n",
       "</table>\n",
       "<p>110 rows × 3 columns</p>\n",
       "</div>"
      ],
      "text/plain": [
       "                                                 value  cluster_id  \\\n",
       "0                          Apples are a popular fruit.           0   \n",
       "1     The color of apples can range from red to green.           0   \n",
       "2           Apple trees belong to the Rosaceae family.           0   \n",
       "3    Apple pie is a delicious dessert made with app...           0   \n",
       "4          You can make apple cider from fresh apples.           0   \n",
       "..                                                 ...         ...   \n",
       "105  She used Python to automate repetitive tasks a...          10   \n",
       "106  The Python interpreter executes code line by l...          10   \n",
       "107  Python's extensive standard library provides a...          10   \n",
       "108  He attended a Python conference to learn about...          10   \n",
       "109  The Python ecosystem offers powerful framework...          10   \n",
       "\n",
       "    new_cluster_id  \n",
       "0              NaN  \n",
       "1              NaN  \n",
       "2              NaN  \n",
       "3              NaN  \n",
       "4              NaN  \n",
       "..             ...  \n",
       "105            NaN  \n",
       "106            NaN  \n",
       "107            NaN  \n",
       "108            NaN  \n",
       "109            NaN  \n",
       "\n",
       "[110 rows x 3 columns]"
      ]
     },
     "execution_count": 16,
     "metadata": {},
     "output_type": "execute_result"
    }
   ],
   "source": [
    "values = []\n",
    "cluster_id_list = []\n",
    "\n",
    "for list_ in enumerate(list_of_lists):\n",
    "    for i in list_[1]:\n",
    "        values.append(i)\n",
    "        cluster_id_list.append(list_[0])\n",
    "        \n",
    "df['value'] = values\n",
    "df['cluster_id'] = cluster_id_list\n",
    "# df['new_cluster_id'] = abs_clusters\n",
    "df"
   ]
  },
  {
   "cell_type": "code",
   "execution_count": null,
   "id": "20fb1fed",
   "metadata": {},
   "outputs": [],
   "source": []
  },
  {
   "cell_type": "code",
   "execution_count": null,
   "id": "f06832e7",
   "metadata": {},
   "outputs": [],
   "source": []
  },
  {
   "cell_type": "code",
   "execution_count": 17,
   "id": "4374c4d6",
   "metadata": {},
   "outputs": [],
   "source": [
    "def clust(context, model: SentenceTransformer, threshold):\n",
    "    embeddings = model.encode(context,\n",
    "                              batch_size=64,\n",
    "                              show_progress_bar=True,\n",
    "                              convert_to_tensor=True)\n",
    "    clusters = util.community_detection(embeddings,\n",
    "                                        min_community_size=1,\n",
    "                                        threshold=threshold)\n",
    "    return clusters"
   ]
  },
  {
   "cell_type": "code",
   "execution_count": 18,
   "id": "26d67860",
   "metadata": {},
   "outputs": [],
   "source": [
    "values_list = df['value'].tolist()\n",
    "\n",
    "value_copy = values_list.copy()"
   ]
  },
  {
   "cell_type": "code",
   "execution_count": 19,
   "id": "7785ec37",
   "metadata": {},
   "outputs": [
    {
     "data": {
      "application/vnd.jupyter.widget-view+json": {
       "model_id": "7551eb6c82954ce6b0504a8c888d99fb",
       "version_major": 2,
       "version_minor": 0
      },
      "text/plain": [
       "Batches:   0%|          | 0/2 [00:00<?, ?it/s]"
      ]
     },
     "metadata": {},
     "output_type": "display_data"
    },
    {
     "name": "stdout",
     "output_type": "stream",
     "text": [
      "[[90, 91, 92, 93, 94, 95, 96, 97, 98, 99, 101, 103], [0, 1, 2, 3, 4, 5, 6, 7, 8, 9], [10, 11, 12, 13, 14, 15, 16, 17, 18, 19], [20, 21, 22, 23, 24, 25, 26, 27, 28, 29], [30, 31, 32, 33, 34, 36, 37, 38, 39, 55], [100, 102, 104, 105, 106, 107, 108, 109], [70, 73, 74, 75, 77, 78, 79], [81, 82, 85, 86, 87, 88], [50, 52, 56, 59], [53, 54, 58], [63, 68, 69], [41, 42], [43, 45], [60, 66], [72], [35], [89], [84], [40], [44], [46], [47], [48], [49], [51], [57], [61], [62], [64], [65], [67], [71], [76], [80], [83]]\n"
     ]
    }
   ],
   "source": [
    "clusters = clust(values_list, model, 0.45)\n",
    "print(clusters)"
   ]
  },
  {
   "cell_type": "code",
   "execution_count": 20,
   "id": "4e801cbb",
   "metadata": {},
   "outputs": [],
   "source": [
    "sorted_clusters = (sorted(clusters))"
   ]
  },
  {
   "cell_type": "code",
   "execution_count": 21,
   "id": "280e75fd",
   "metadata": {},
   "outputs": [
    {
     "data": {
      "text/plain": [
       "[[0, 1, 2, 3, 4, 5, 6, 7, 8, 9],\n",
       " [10, 11, 12, 13, 14, 15, 16, 17, 18, 19],\n",
       " [20, 21, 22, 23, 24, 25, 26, 27, 28, 29],\n",
       " [30, 31, 32, 33, 34, 36, 37, 38, 39, 55],\n",
       " [35],\n",
       " [40],\n",
       " [41, 42],\n",
       " [43, 45],\n",
       " [44],\n",
       " [46],\n",
       " [47],\n",
       " [48],\n",
       " [49],\n",
       " [50, 52, 56, 59],\n",
       " [51],\n",
       " [53, 54, 58],\n",
       " [57],\n",
       " [60, 66],\n",
       " [61],\n",
       " [62],\n",
       " [63, 68, 69],\n",
       " [64],\n",
       " [65],\n",
       " [67],\n",
       " [70, 73, 74, 75, 77, 78, 79],\n",
       " [71],\n",
       " [72],\n",
       " [76],\n",
       " [80],\n",
       " [81, 82, 85, 86, 87, 88],\n",
       " [83],\n",
       " [84],\n",
       " [89],\n",
       " [90, 91, 92, 93, 94, 95, 96, 97, 98, 99, 101, 103],\n",
       " [100, 102, 104, 105, 106, 107, 108, 109]]"
      ]
     },
     "execution_count": 21,
     "metadata": {},
     "output_type": "execute_result"
    }
   ],
   "source": [
    "arr = []\n",
    "\n",
    "for i in sorted_clusters:\n",
    "    clust = []\n",
    "    for j in i:\n",
    "        clust.append(j)\n",
    "    arr.append(clust)\n",
    "\n",
    "arr"
   ]
  },
  {
   "cell_type": "code",
   "execution_count": 22,
   "id": "90cf7805",
   "metadata": {},
   "outputs": [
    {
     "name": "stdout",
     "output_type": "stream",
     "text": [
      "[0, 0, 0, 0, 0, 0, 0, 0, 0, 0, 1, 1, 1, 1, 1, 1, 1, 1, 1, 1, 2, 2, 2, 2, 2, 2, 2, 2, 2, 2, 3, 3, 3, 3, 3, 3, 3, 3, 3, 3, 4, 5, 6, 6, 7, 7, 8, 9, 10, 11, 12, 13, 13, 13, 13, 14, 15, 15, 15, 16, 17, 17, 18, 19, 20, 20, 20, 21, 22, 23, 24, 24, 24, 24, 24, 24, 24, 25, 26, 27, 28, 29, 29, 29, 29, 29, 29, 30, 31, 32, 33, 33, 33, 33, 33, 33, 33, 33, 33, 33, 33, 33, 34, 34, 34, 34, 34, 34, 34, 34]\n"
     ]
    }
   ],
   "source": [
    "new_clusters = []\n",
    "\n",
    "for list_ in enumerate(arr):\n",
    "    for i in list_[1]:\n",
    "        new_clusters.append(list_[0])\n",
    "        \n",
    "print(new_clusters)"
   ]
  },
  {
   "cell_type": "code",
   "execution_count": 23,
   "id": "c209d5e4",
   "metadata": {},
   "outputs": [],
   "source": [
    "df['new_cluster_id'] = new_clusters"
   ]
  },
  {
   "cell_type": "code",
   "execution_count": 24,
   "id": "824a4920",
   "metadata": {},
   "outputs": [
    {
     "data": {
      "text/html": [
       "<div>\n",
       "<style scoped>\n",
       "    .dataframe tbody tr th:only-of-type {\n",
       "        vertical-align: middle;\n",
       "    }\n",
       "\n",
       "    .dataframe tbody tr th {\n",
       "        vertical-align: top;\n",
       "    }\n",
       "\n",
       "    .dataframe thead th {\n",
       "        text-align: right;\n",
       "    }\n",
       "</style>\n",
       "<table border=\"1\" class=\"dataframe\">\n",
       "  <thead>\n",
       "    <tr style=\"text-align: right;\">\n",
       "      <th></th>\n",
       "      <th>value</th>\n",
       "      <th>cluster_id</th>\n",
       "      <th>new_cluster_id</th>\n",
       "    </tr>\n",
       "  </thead>\n",
       "  <tbody>\n",
       "    <tr>\n",
       "      <th>0</th>\n",
       "      <td>Apples are a popular fruit.</td>\n",
       "      <td>0</td>\n",
       "      <td>0</td>\n",
       "    </tr>\n",
       "    <tr>\n",
       "      <th>1</th>\n",
       "      <td>The color of apples can range from red to green.</td>\n",
       "      <td>0</td>\n",
       "      <td>0</td>\n",
       "    </tr>\n",
       "    <tr>\n",
       "      <th>2</th>\n",
       "      <td>Apple trees belong to the Rosaceae family.</td>\n",
       "      <td>0</td>\n",
       "      <td>0</td>\n",
       "    </tr>\n",
       "    <tr>\n",
       "      <th>3</th>\n",
       "      <td>Apple pie is a delicious dessert made with app...</td>\n",
       "      <td>0</td>\n",
       "      <td>0</td>\n",
       "    </tr>\n",
       "    <tr>\n",
       "      <th>4</th>\n",
       "      <td>You can make apple cider from fresh apples.</td>\n",
       "      <td>0</td>\n",
       "      <td>0</td>\n",
       "    </tr>\n",
       "    <tr>\n",
       "      <th>...</th>\n",
       "      <td>...</td>\n",
       "      <td>...</td>\n",
       "      <td>...</td>\n",
       "    </tr>\n",
       "    <tr>\n",
       "      <th>105</th>\n",
       "      <td>She used Python to automate repetitive tasks a...</td>\n",
       "      <td>10</td>\n",
       "      <td>34</td>\n",
       "    </tr>\n",
       "    <tr>\n",
       "      <th>106</th>\n",
       "      <td>The Python interpreter executes code line by l...</td>\n",
       "      <td>10</td>\n",
       "      <td>34</td>\n",
       "    </tr>\n",
       "    <tr>\n",
       "      <th>107</th>\n",
       "      <td>Python's extensive standard library provides a...</td>\n",
       "      <td>10</td>\n",
       "      <td>34</td>\n",
       "    </tr>\n",
       "    <tr>\n",
       "      <th>108</th>\n",
       "      <td>He attended a Python conference to learn about...</td>\n",
       "      <td>10</td>\n",
       "      <td>34</td>\n",
       "    </tr>\n",
       "    <tr>\n",
       "      <th>109</th>\n",
       "      <td>The Python ecosystem offers powerful framework...</td>\n",
       "      <td>10</td>\n",
       "      <td>34</td>\n",
       "    </tr>\n",
       "  </tbody>\n",
       "</table>\n",
       "<p>110 rows × 3 columns</p>\n",
       "</div>"
      ],
      "text/plain": [
       "                                                 value  cluster_id  \\\n",
       "0                          Apples are a popular fruit.           0   \n",
       "1     The color of apples can range from red to green.           0   \n",
       "2           Apple trees belong to the Rosaceae family.           0   \n",
       "3    Apple pie is a delicious dessert made with app...           0   \n",
       "4          You can make apple cider from fresh apples.           0   \n",
       "..                                                 ...         ...   \n",
       "105  She used Python to automate repetitive tasks a...          10   \n",
       "106  The Python interpreter executes code line by l...          10   \n",
       "107  Python's extensive standard library provides a...          10   \n",
       "108  He attended a Python conference to learn about...          10   \n",
       "109  The Python ecosystem offers powerful framework...          10   \n",
       "\n",
       "     new_cluster_id  \n",
       "0                 0  \n",
       "1                 0  \n",
       "2                 0  \n",
       "3                 0  \n",
       "4                 0  \n",
       "..              ...  \n",
       "105              34  \n",
       "106              34  \n",
       "107              34  \n",
       "108              34  \n",
       "109              34  \n",
       "\n",
       "[110 rows x 3 columns]"
      ]
     },
     "execution_count": 24,
     "metadata": {},
     "output_type": "execute_result"
    }
   ],
   "source": [
    "df"
   ]
  },
  {
   "cell_type": "code",
   "execution_count": 25,
   "id": "d5ae00bb",
   "metadata": {},
   "outputs": [],
   "source": [
    "df.to_csv('dataframe.csv', index=False)"
   ]
  },
  {
   "cell_type": "code",
   "execution_count": 26,
   "id": "03e0aa4e",
   "metadata": {},
   "outputs": [],
   "source": [
    "old_values = df['cluster_id']\n",
    "new_values = df['new_cluster_id']"
   ]
  },
  {
   "cell_type": "code",
   "execution_count": 27,
   "id": "90171630",
   "metadata": {},
   "outputs": [],
   "source": [
    "matches = []"
   ]
  },
  {
   "cell_type": "code",
   "execution_count": 28,
   "id": "d59bcec2",
   "metadata": {},
   "outputs": [],
   "source": [
    "for i in enumerate(old_values):\n",
    "    try:\n",
    "        if (old_values[i[0]] == old_values[i[0]+1] and new_values[i[0]] == new_values[i[0]+1]) or (old_values[i[0]] != old_values[i[0]+1] and new_values[i[0]] != new_values[i[0]+1]):\n",
    "            matches.append(1)\n",
    "        else:\n",
    "            matches.append(0)\n",
    "    except:\n",
    "        if (old_values[i[0]] == old_values[i[0]-1] and new_values[i[0]] == new_values[i[0]-1]) or (old_values[i[0]] != old_values[i[0]-1] and new_values[i[0]] != new_values[i[0]-1]):\n",
    "            matches.append(1)\n",
    "        else:\n",
    "            matches.append(0)"
   ]
  },
  {
   "cell_type": "code",
   "execution_count": 29,
   "id": "aed4550c",
   "metadata": {},
   "outputs": [
    {
     "data": {
      "text/html": [
       "<div>\n",
       "<style scoped>\n",
       "    .dataframe tbody tr th:only-of-type {\n",
       "        vertical-align: middle;\n",
       "    }\n",
       "\n",
       "    .dataframe tbody tr th {\n",
       "        vertical-align: top;\n",
       "    }\n",
       "\n",
       "    .dataframe thead th {\n",
       "        text-align: right;\n",
       "    }\n",
       "</style>\n",
       "<table border=\"1\" class=\"dataframe\">\n",
       "  <thead>\n",
       "    <tr style=\"text-align: right;\">\n",
       "      <th></th>\n",
       "      <th>value</th>\n",
       "      <th>cluster_id</th>\n",
       "      <th>new_cluster_id</th>\n",
       "      <th>matches</th>\n",
       "    </tr>\n",
       "  </thead>\n",
       "  <tbody>\n",
       "    <tr>\n",
       "      <th>0</th>\n",
       "      <td>Apples are a popular fruit.</td>\n",
       "      <td>0</td>\n",
       "      <td>0</td>\n",
       "      <td>1</td>\n",
       "    </tr>\n",
       "    <tr>\n",
       "      <th>1</th>\n",
       "      <td>The color of apples can range from red to green.</td>\n",
       "      <td>0</td>\n",
       "      <td>0</td>\n",
       "      <td>1</td>\n",
       "    </tr>\n",
       "    <tr>\n",
       "      <th>2</th>\n",
       "      <td>Apple trees belong to the Rosaceae family.</td>\n",
       "      <td>0</td>\n",
       "      <td>0</td>\n",
       "      <td>1</td>\n",
       "    </tr>\n",
       "    <tr>\n",
       "      <th>3</th>\n",
       "      <td>Apple pie is a delicious dessert made with app...</td>\n",
       "      <td>0</td>\n",
       "      <td>0</td>\n",
       "      <td>1</td>\n",
       "    </tr>\n",
       "    <tr>\n",
       "      <th>4</th>\n",
       "      <td>You can make apple cider from fresh apples.</td>\n",
       "      <td>0</td>\n",
       "      <td>0</td>\n",
       "      <td>1</td>\n",
       "    </tr>\n",
       "    <tr>\n",
       "      <th>...</th>\n",
       "      <td>...</td>\n",
       "      <td>...</td>\n",
       "      <td>...</td>\n",
       "      <td>...</td>\n",
       "    </tr>\n",
       "    <tr>\n",
       "      <th>105</th>\n",
       "      <td>She used Python to automate repetitive tasks a...</td>\n",
       "      <td>10</td>\n",
       "      <td>34</td>\n",
       "      <td>1</td>\n",
       "    </tr>\n",
       "    <tr>\n",
       "      <th>106</th>\n",
       "      <td>The Python interpreter executes code line by l...</td>\n",
       "      <td>10</td>\n",
       "      <td>34</td>\n",
       "      <td>1</td>\n",
       "    </tr>\n",
       "    <tr>\n",
       "      <th>107</th>\n",
       "      <td>Python's extensive standard library provides a...</td>\n",
       "      <td>10</td>\n",
       "      <td>34</td>\n",
       "      <td>1</td>\n",
       "    </tr>\n",
       "    <tr>\n",
       "      <th>108</th>\n",
       "      <td>He attended a Python conference to learn about...</td>\n",
       "      <td>10</td>\n",
       "      <td>34</td>\n",
       "      <td>1</td>\n",
       "    </tr>\n",
       "    <tr>\n",
       "      <th>109</th>\n",
       "      <td>The Python ecosystem offers powerful framework...</td>\n",
       "      <td>10</td>\n",
       "      <td>34</td>\n",
       "      <td>1</td>\n",
       "    </tr>\n",
       "  </tbody>\n",
       "</table>\n",
       "<p>110 rows × 4 columns</p>\n",
       "</div>"
      ],
      "text/plain": [
       "                                                 value  cluster_id  \\\n",
       "0                          Apples are a popular fruit.           0   \n",
       "1     The color of apples can range from red to green.           0   \n",
       "2           Apple trees belong to the Rosaceae family.           0   \n",
       "3    Apple pie is a delicious dessert made with app...           0   \n",
       "4          You can make apple cider from fresh apples.           0   \n",
       "..                                                 ...         ...   \n",
       "105  She used Python to automate repetitive tasks a...          10   \n",
       "106  The Python interpreter executes code line by l...          10   \n",
       "107  Python's extensive standard library provides a...          10   \n",
       "108  He attended a Python conference to learn about...          10   \n",
       "109  The Python ecosystem offers powerful framework...          10   \n",
       "\n",
       "     new_cluster_id  matches  \n",
       "0                 0        1  \n",
       "1                 0        1  \n",
       "2                 0        1  \n",
       "3                 0        1  \n",
       "4                 0        1  \n",
       "..              ...      ...  \n",
       "105              34        1  \n",
       "106              34        1  \n",
       "107              34        1  \n",
       "108              34        1  \n",
       "109              34        1  \n",
       "\n",
       "[110 rows x 4 columns]"
      ]
     },
     "execution_count": 29,
     "metadata": {},
     "output_type": "execute_result"
    }
   ],
   "source": [
    "df['matches'] = matches\n",
    "df"
   ]
  },
  {
   "cell_type": "code",
   "execution_count": 30,
   "id": "a04e13b1",
   "metadata": {},
   "outputs": [],
   "source": [
    "my_list = df['matches']\n",
    "\n",
    "# Преобразование списка в объект Series\n",
    "s = pd.Series(my_list)\n",
    "\n",
    "# Подсчет количества элементов по значению\n",
    "value_counts = s.value_counts()\n",
    "score = value_counts.tolist()[1]"
   ]
  },
  {
   "cell_type": "code",
   "execution_count": 31,
   "id": "1a06d6cb",
   "metadata": {},
   "outputs": [],
   "source": [
    "accuracy = score / len(my_list)"
   ]
  },
  {
   "cell_type": "code",
   "execution_count": 32,
   "id": "5a97a847",
   "metadata": {},
   "outputs": [
    {
     "name": "stdout",
     "output_type": "stream",
     "text": [
      "0.7636363636363637\n"
     ]
    }
   ],
   "source": [
    "print(1 - accuracy)"
   ]
  },
  {
   "cell_type": "code",
   "execution_count": 42,
   "id": "3dfd5e8c",
   "metadata": {},
   "outputs": [
    {
     "data": {
      "text/html": [
       "<div>\n",
       "<style scoped>\n",
       "    .dataframe tbody tr th:only-of-type {\n",
       "        vertical-align: middle;\n",
       "    }\n",
       "\n",
       "    .dataframe tbody tr th {\n",
       "        vertical-align: top;\n",
       "    }\n",
       "\n",
       "    .dataframe thead th {\n",
       "        text-align: right;\n",
       "    }\n",
       "</style>\n",
       "<table border=\"1\" class=\"dataframe\">\n",
       "  <thead>\n",
       "    <tr style=\"text-align: right;\">\n",
       "      <th></th>\n",
       "      <th>value</th>\n",
       "      <th>cluster_id</th>\n",
       "      <th>new_cluster_id</th>\n",
       "      <th>matches</th>\n",
       "    </tr>\n",
       "  </thead>\n",
       "  <tbody>\n",
       "    <tr>\n",
       "      <th>90</th>\n",
       "      <td>JavaScript is a widely-used programming langua...</td>\n",
       "      <td>9</td>\n",
       "      <td>33</td>\n",
       "      <td>1</td>\n",
       "    </tr>\n",
       "    <tr>\n",
       "      <th>91</th>\n",
       "      <td>He enjoys coding in JavaScript and building in...</td>\n",
       "      <td>9</td>\n",
       "      <td>33</td>\n",
       "      <td>1</td>\n",
       "    </tr>\n",
       "    <tr>\n",
       "      <th>92</th>\n",
       "      <td>The JavaScript framework allowed for faster de...</td>\n",
       "      <td>9</td>\n",
       "      <td>33</td>\n",
       "      <td>1</td>\n",
       "    </tr>\n",
       "    <tr>\n",
       "      <th>93</th>\n",
       "      <td>She attended a workshop to learn more about ad...</td>\n",
       "      <td>9</td>\n",
       "      <td>33</td>\n",
       "      <td>1</td>\n",
       "    </tr>\n",
       "    <tr>\n",
       "      <th>94</th>\n",
       "      <td>The website's functionality was enhanced with ...</td>\n",
       "      <td>9</td>\n",
       "      <td>33</td>\n",
       "      <td>1</td>\n",
       "    </tr>\n",
       "    <tr>\n",
       "      <th>95</th>\n",
       "      <td>He spent hours debugging his JavaScript code t...</td>\n",
       "      <td>9</td>\n",
       "      <td>33</td>\n",
       "      <td>1</td>\n",
       "    </tr>\n",
       "    <tr>\n",
       "      <th>96</th>\n",
       "      <td>JavaScript is known for its versatility and ab...</td>\n",
       "      <td>9</td>\n",
       "      <td>33</td>\n",
       "      <td>1</td>\n",
       "    </tr>\n",
       "    <tr>\n",
       "      <th>97</th>\n",
       "      <td>She contributed to an open-source JavaScript p...</td>\n",
       "      <td>9</td>\n",
       "      <td>33</td>\n",
       "      <td>1</td>\n",
       "    </tr>\n",
       "    <tr>\n",
       "      <th>98</th>\n",
       "      <td>The company was seeking candidates with strong...</td>\n",
       "      <td>9</td>\n",
       "      <td>33</td>\n",
       "      <td>1</td>\n",
       "    </tr>\n",
       "    <tr>\n",
       "      <th>99</th>\n",
       "      <td>The JavaScript library simplified the process ...</td>\n",
       "      <td>9</td>\n",
       "      <td>33</td>\n",
       "      <td>0</td>\n",
       "    </tr>\n",
       "    <tr>\n",
       "      <th>100</th>\n",
       "      <td>Python is a versatile programming language use...</td>\n",
       "      <td>10</td>\n",
       "      <td>33</td>\n",
       "      <td>1</td>\n",
       "    </tr>\n",
       "    <tr>\n",
       "      <th>101</th>\n",
       "      <td>She enjoys coding in Python because of its sim...</td>\n",
       "      <td>10</td>\n",
       "      <td>33</td>\n",
       "      <td>0</td>\n",
       "    </tr>\n",
       "    <tr>\n",
       "      <th>102</th>\n",
       "      <td>The Python community is known for its active s...</td>\n",
       "      <td>10</td>\n",
       "      <td>34</td>\n",
       "      <td>1</td>\n",
       "    </tr>\n",
       "    <tr>\n",
       "      <th>103</th>\n",
       "      <td>He learned Python as his first programming lan...</td>\n",
       "      <td>10</td>\n",
       "      <td>34</td>\n",
       "      <td>1</td>\n",
       "    </tr>\n",
       "    <tr>\n",
       "      <th>104</th>\n",
       "      <td>Python's syntax is easy to understand, making ...</td>\n",
       "      <td>10</td>\n",
       "      <td>34</td>\n",
       "      <td>1</td>\n",
       "    </tr>\n",
       "    <tr>\n",
       "      <th>105</th>\n",
       "      <td>She used Python to automate repetitive tasks a...</td>\n",
       "      <td>10</td>\n",
       "      <td>34</td>\n",
       "      <td>1</td>\n",
       "    </tr>\n",
       "    <tr>\n",
       "      <th>106</th>\n",
       "      <td>The Python interpreter executes code line by l...</td>\n",
       "      <td>10</td>\n",
       "      <td>34</td>\n",
       "      <td>1</td>\n",
       "    </tr>\n",
       "    <tr>\n",
       "      <th>107</th>\n",
       "      <td>Python's extensive standard library provides a...</td>\n",
       "      <td>10</td>\n",
       "      <td>34</td>\n",
       "      <td>1</td>\n",
       "    </tr>\n",
       "    <tr>\n",
       "      <th>108</th>\n",
       "      <td>He attended a Python conference to learn about...</td>\n",
       "      <td>10</td>\n",
       "      <td>34</td>\n",
       "      <td>1</td>\n",
       "    </tr>\n",
       "    <tr>\n",
       "      <th>109</th>\n",
       "      <td>The Python ecosystem offers powerful framework...</td>\n",
       "      <td>10</td>\n",
       "      <td>34</td>\n",
       "      <td>1</td>\n",
       "    </tr>\n",
       "  </tbody>\n",
       "</table>\n",
       "</div>"
      ],
      "text/plain": [
       "                                                 value  cluster_id  \\\n",
       "90   JavaScript is a widely-used programming langua...           9   \n",
       "91   He enjoys coding in JavaScript and building in...           9   \n",
       "92   The JavaScript framework allowed for faster de...           9   \n",
       "93   She attended a workshop to learn more about ad...           9   \n",
       "94   The website's functionality was enhanced with ...           9   \n",
       "95   He spent hours debugging his JavaScript code t...           9   \n",
       "96   JavaScript is known for its versatility and ab...           9   \n",
       "97   She contributed to an open-source JavaScript p...           9   \n",
       "98   The company was seeking candidates with strong...           9   \n",
       "99   The JavaScript library simplified the process ...           9   \n",
       "100  Python is a versatile programming language use...          10   \n",
       "101  She enjoys coding in Python because of its sim...          10   \n",
       "102  The Python community is known for its active s...          10   \n",
       "103  He learned Python as his first programming lan...          10   \n",
       "104  Python's syntax is easy to understand, making ...          10   \n",
       "105  She used Python to automate repetitive tasks a...          10   \n",
       "106  The Python interpreter executes code line by l...          10   \n",
       "107  Python's extensive standard library provides a...          10   \n",
       "108  He attended a Python conference to learn about...          10   \n",
       "109  The Python ecosystem offers powerful framework...          10   \n",
       "\n",
       "     new_cluster_id  matches  \n",
       "90               33        1  \n",
       "91               33        1  \n",
       "92               33        1  \n",
       "93               33        1  \n",
       "94               33        1  \n",
       "95               33        1  \n",
       "96               33        1  \n",
       "97               33        1  \n",
       "98               33        1  \n",
       "99               33        0  \n",
       "100              33        1  \n",
       "101              33        0  \n",
       "102              34        1  \n",
       "103              34        1  \n",
       "104              34        1  \n",
       "105              34        1  \n",
       "106              34        1  \n",
       "107              34        1  \n",
       "108              34        1  \n",
       "109              34        1  "
      ]
     },
     "execution_count": 42,
     "metadata": {},
     "output_type": "execute_result"
    }
   ],
   "source": [
    "df.tail(20)"
   ]
  },
  {
   "cell_type": "code",
   "execution_count": 34,
   "id": "9768e55c",
   "metadata": {},
   "outputs": [],
   "source": [
    "def show_clust(data):\n",
    "    import matplotlib.pyplot as plt\n",
    "    for i in range(data.shape[0]):\n",
    "        if data.iloc[i, 3] == 1:\n",
    "            plt.scatter(i, data.iloc[i, 1], color='green')\n",
    "        else:\n",
    "            plt.scatter(i, data.iloc[i, 1], color='red')\n",
    "    plt.title('Clustering results', weight='bold')\n",
    "    plt.xlabel('index', weight='bold')\n",
    "    plt.ylabel('old cluster id', weight='bold')\n",
    "    plt.show()"
   ]
  },
  {
   "cell_type": "code",
   "execution_count": 35,
   "id": "8adb929d",
   "metadata": {},
   "outputs": [
    {
     "data": {
      "image/png": "[encoded data removed]",
      "text/plain": [
       "<Figure size 432x288 with 1 Axes>"
      ]
     },
     "metadata": {
      "needs_background": "light"
     },
     "output_type": "display_data"
    }
   ],
   "source": [
    "show_clust(df)"
   ]
  },
  {
   "cell_type": "code",
   "execution_count": 41,
   "id": "3874dfc9",
   "metadata": {},
   "outputs": [],
   "source": [
    "df.to_csv('scatter_final.csv', index=False)"
   ]
  },
  {
   "cell_type": "code",
   "execution_count": null,
   "id": "f769b7cb",
   "metadata": {},
   "outputs": [],
   "source": []
  },
  {
   "cell_type": "code",
   "execution_count": 46,
   "id": "3effd74b",
   "metadata": {},
   "outputs": [
    {
     "data": {
      "application/vnd.jupyter.widget-view+json": {
       "model_id": "f6fd60c1203a47799f5dce268046fb28",
       "version_major": 2,
       "version_minor": 0
      },
      "text/plain": [
       "Batches:   0%|          | 0/1 [00:00<?, ?it/s]"
      ]
     },
     "metadata": {},
     "output_type": "display_data"
    },
    {
     "data": {
      "application/vnd.jupyter.widget-view+json": {
       "model_id": "5e4fd1ff4b394bd492ff6ef6f03ad372",
       "version_major": 2,
       "version_minor": 0
      },
      "text/plain": [
       "Batches:   0%|          | 0/1 [00:00<?, ?it/s]"
      ]
     },
     "metadata": {},
     "output_type": "display_data"
    },
    {
     "data": {
      "application/vnd.jupyter.widget-view+json": {
       "model_id": "3adc2ab1dd084cef8f1bfe30372a7fa8",
       "version_major": 2,
       "version_minor": 0
      },
      "text/plain": [
       "Batches:   0%|          | 0/1 [00:00<?, ?it/s]"
      ]
     },
     "metadata": {},
     "output_type": "display_data"
    },
    {
     "data": {
      "application/vnd.jupyter.widget-view+json": {
       "model_id": "8da47627a1f84893a76ad0f40112620b",
       "version_major": 2,
       "version_minor": 0
      },
      "text/plain": [
       "Batches:   0%|          | 0/1 [00:00<?, ?it/s]"
      ]
     },
     "metadata": {},
     "output_type": "display_data"
    },
    {
     "data": {
      "application/vnd.jupyter.widget-view+json": {
       "model_id": "49dd01a95ef0402a83504703ebe12e9d",
       "version_major": 2,
       "version_minor": 0
      },
      "text/plain": [
       "Batches:   0%|          | 0/1 [00:00<?, ?it/s]"
      ]
     },
     "metadata": {},
     "output_type": "display_data"
    },
    {
     "data": {
      "application/vnd.jupyter.widget-view+json": {
       "model_id": "74013b61f4084c96936ecd8665c48e71",
       "version_major": 2,
       "version_minor": 0
      },
      "text/plain": [
       "Batches:   0%|          | 0/1 [00:00<?, ?it/s]"
      ]
     },
     "metadata": {},
     "output_type": "display_data"
    },
    {
     "data": {
      "application/vnd.jupyter.widget-view+json": {
       "model_id": "2ebf71db11bd42f8a6d58bbef214e4fe",
       "version_major": 2,
       "version_minor": 0
      },
      "text/plain": [
       "Batches:   0%|          | 0/1 [00:00<?, ?it/s]"
      ]
     },
     "metadata": {},
     "output_type": "display_data"
    },
    {
     "data": {
      "application/vnd.jupyter.widget-view+json": {
       "model_id": "8a40eada90084f53b187f972163fa5d9",
       "version_major": 2,
       "version_minor": 0
      },
      "text/plain": [
       "Batches:   0%|          | 0/1 [00:00<?, ?it/s]"
      ]
     },
     "metadata": {},
     "output_type": "display_data"
    },
    {
     "data": {
      "application/vnd.jupyter.widget-view+json": {
       "model_id": "3f707df2fa8c4b91be4e58a619b7e792",
       "version_major": 2,
       "version_minor": 0
      },
      "text/plain": [
       "Batches:   0%|          | 0/1 [00:00<?, ?it/s]"
      ]
     },
     "metadata": {},
     "output_type": "display_data"
    },
    {
     "data": {
      "application/vnd.jupyter.widget-view+json": {
       "model_id": "835003fe719a49108cac7941e72585de",
       "version_major": 2,
       "version_minor": 0
      },
      "text/plain": [
       "Batches:   0%|          | 0/1 [00:00<?, ?it/s]"
      ]
     },
     "metadata": {},
     "output_type": "display_data"
    },
    {
     "data": {
      "application/vnd.jupyter.widget-view+json": {
       "model_id": "3a0bb21c84224a7ea957349491558df1",
       "version_major": 2,
       "version_minor": 0
      },
      "text/plain": [
       "Batches:   0%|          | 0/1 [00:00<?, ?it/s]"
      ]
     },
     "metadata": {},
     "output_type": "display_data"
    }
   ],
   "source": [
    "def calc_centroid(sentences):\n",
    "        embeddings = model.encode(sentences,\n",
    "                              batch_size=64,\n",
    "                              show_progress_bar=True,\n",
    "                              convert_to_tensor=True)\n",
    "        centroid = sum(embeddings) / len(sentences)\n",
    "        return centroid\n",
    "\n",
    "apples_centroid = calc_centroid(apples)\n",
    "horses_centroid = calc_centroid(horses)\n",
    "books_centroid = calc_centroid(books)\n",
    "univer_centroid = calc_centroid(univer)\n",
    "man_centroid = calc_centroid(man)\n",
    "logic_centroid = calc_centroid(logic)\n",
    "water_centroid = calc_centroid(water)\n",
    "cat_centroid = calc_centroid(cat)\n",
    "sport_centroid = calc_centroid(sport)\n",
    "javascript_centroid = calc_centroid(javascript)\n",
    "python_centroid = calc_centroid(python)\n",
    "centroid_list = [apples_centroid, horses_centroid, books_centroid, univer_centroid, man_centroid, logic_centroid, water_centroid, cat_centroid, sport_centroid, javascript_centroid, python_centroid]\n",
    "about_list = ['Cluster number 0', 'Cluster number 1', 'Cluster number 2',  'Cluster number 3', 'Cluster number 4', 'Cluster number 5', 'Cluster number 6', 'Cluster number 7', 'Clusternumber number 8', 'Cluster number 9', 'Cluster number 10']"
   ]
  },
  {
   "cell_type": "code",
   "execution_count": null,
   "id": "3d13dbcf",
   "metadata": {},
   "outputs": [],
   "source": []
  },
  {
   "cell_type": "code",
   "execution_count": null,
   "id": "89b72ad9",
   "metadata": {},
   "outputs": [],
   "source": []
  },
  {
   "cell_type": "code",
   "execution_count": 51,
   "id": "ab5a7cdc",
   "metadata": {},
   "outputs": [
    {
     "data": {
      "text/plain": [
       "[0,\n",
       " 0,\n",
       " 0,\n",
       " 0,\n",
       " 0,\n",
       " 0,\n",
       " 0,\n",
       " 0,\n",
       " 0,\n",
       " 0,\n",
       " 1,\n",
       " 1,\n",
       " 1,\n",
       " 1,\n",
       " 1,\n",
       " 1,\n",
       " 1,\n",
       " 1,\n",
       " 1,\n",
       " 1,\n",
       " 2,\n",
       " 2,\n",
       " 2,\n",
       " 2,\n",
       " 2,\n",
       " 2,\n",
       " 2,\n",
       " 2,\n",
       " 2,\n",
       " 2,\n",
       " 3,\n",
       " 3,\n",
       " 3,\n",
       " 3,\n",
       " 3,\n",
       " 3,\n",
       " 3,\n",
       " 3,\n",
       " 3,\n",
       " 3,\n",
       " 4,\n",
       " 4,\n",
       " 4,\n",
       " 4,\n",
       " 4,\n",
       " 4,\n",
       " 4,\n",
       " 4,\n",
       " 4,\n",
       " 4,\n",
       " 5,\n",
       " 5,\n",
       " 5,\n",
       " 5,\n",
       " 5,\n",
       " 5,\n",
       " 5,\n",
       " 5,\n",
       " 5,\n",
       " 5,\n",
       " 6,\n",
       " 6,\n",
       " 6,\n",
       " 6,\n",
       " 6,\n",
       " 6,\n",
       " 6,\n",
       " 6,\n",
       " 6,\n",
       " 6,\n",
       " 7,\n",
       " 7,\n",
       " 7,\n",
       " 7,\n",
       " 7,\n",
       " 7,\n",
       " 7,\n",
       " 7,\n",
       " 7,\n",
       " 7,\n",
       " 8,\n",
       " 8,\n",
       " 8,\n",
       " 8,\n",
       " 8,\n",
       " 8,\n",
       " 8,\n",
       " 8,\n",
       " 8,\n",
       " 8,\n",
       " 9,\n",
       " 9,\n",
       " 9,\n",
       " 9,\n",
       " 9,\n",
       " 9,\n",
       " 9,\n",
       " 9,\n",
       " 9,\n",
       " 9,\n",
       " 10,\n",
       " 10,\n",
       " 10,\n",
       " 10,\n",
       " 10,\n",
       " 10,\n",
       " 10,\n",
       " 10,\n",
       " 10,\n",
       " 10]"
      ]
     },
     "execution_count": 51,
     "metadata": {},
     "output_type": "execute_result"
    }
   ],
   "source": []
  },
  {
   "cell_type": "code",
   "execution_count": null,
   "id": "102d3c54",
   "metadata": {},
   "outputs": [],
   "source": []
  },
  {
   "cell_type": "code",
   "execution_count": 66,
   "id": "799613a5",
   "metadata": {},
   "outputs": [],
   "source": [
    "def get_clusters_list(query, embeddings):\n",
    "    clusters_ids = df['cluster_id']\n",
    "    clusters_ids.tolist()\n",
    "    \n",
    "    query_embedding = model.encode(query)\n",
    "    \n",
    "    search_results = util.semantic_search(query_embedding, embeddings, \n",
    "                                          query_chunk_size=100, corpus_chunk_size=500000)\n",
    "    clusters = []\n",
    "    \n",
    "    cluster_index = search_results['corpus_id']\n",
    "    print(f'Cluster number {cluster_index}') "
   ]
  },
  {
   "cell_type": "code",
   "execution_count": 67,
   "id": "e5f749ac",
   "metadata": {},
   "outputs": [
    {
     "name": "stdout",
     "output_type": "stream",
     "text": [
      "Cluster number 10\n"
     ]
    }
   ],
   "source": [
    "query = 'python'\n",
    "\n",
    "get_clusters_list(query, centroid_list)"
   ]
  },
  {
   "cell_type": "code",
   "execution_count": null,
   "id": "af07e3ed",
   "metadata": {},
   "outputs": [],
   "source": []
  },
  {
   "cell_type": "code",
   "execution_count": null,
   "id": "fa2d47c5",
   "metadata": {},
   "outputs": [],
   "source": []
  }
 ],
 "metadata": {
  "kernelspec": {
   "display_name": "Python 3",
   "language": "python",
   "name": "python3"
  },
  "language_info": {
   "codemirror_mode": {
    "name": "ipython",
    "version": 3
   },
   "file_extension": ".py",
   "mimetype": "text/x-python",
   "name": "python",
   "nbconvert_exporter": "python",
   "pygments_lexer": "ipython3",
   "version": "3.8.8"
  }
 },
 "nbformat": 4,
 "nbformat_minor": 5
}
